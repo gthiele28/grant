import numpy as np

list = [20, 27, 9, 12, 31, 17, 4, 50, 39, 35]
arr = np.array(list)

print(arr * 4)

print(arr.mean())

print(np.median(arr))

print(arr.std())

imin = np.argmin(arr)
imax = np.argmax(arr)
print(imin, imax)

print(arr[imin], arr[imax])

print(np.min(arr), np.max(arr))

print(arr[arr > 20])


import numpy as np

matrix = [
    [5, 12, 17, 9],
    [8, 21, 14, 3],
    [6, 13, 19, 11]
]

arr = np.array(matrix)


shape = arr.shape
print(shape)

third_col = arr[:, 2]
print(third_col)

second_row = arr[1, :]
print(second_row)

times2 = arr * 2
print(times2)

col_means = arr.mean(axis=0)
print(col_means)

overall_mean = arr.mean()
print(overall_mean)

row_max = arr.max(axis=1)
col_min = arr.min(axis=0)
print(row_max, col_min)

flat = arr.flatten()
flat_shape = flat.shape
print(flat_shape)

imin = np.argmin(arr)
imax = np.argmax(arr)
print(imin, imax)

imin_rc = np.unravel_index(imin, arr.shape)
imax_rc = np.unravel_index(imax, arr.shape)

gt15 = arr[arr > 15]

sorted_rows = np.sort(arr, axis=1)
print(sorted_rows)


arr = np.array([
[2, 3, 5],
[14, 6, 8],
[11, 13, 17],
[7, 10, 13]
])

def is_prime(x):
    if x <= 1:
        return False
    
    if x == 2:
        return True
    
    for i in range(2, int(np.sqrt(x)) + 1):
        if x % i == 0:
            return False
    return True

def prime_array(nums):
    ret = np.array([])
    
    for i in nums:
        for j in i:
            if is_prime(j):
                ret = np.append(ret, [i])
                break

    return ret

print(prime_array(arr))


def zero_board():
    return np.zeros((8,8), dtype=int)

def checkerboard():
    i,j = np.indices((8,8))
    return ((i + j) % 2 == 0).astype(int)

def reverse_checkerboard():
    i, j = np.indices((8, 8))
    return ((i + j) % 2).astype(int)

print(checkerboard())
print(reverse_checkerboard())


def second_dimmest(stars):
    return np.partition(stars, -2, axis=1)[:, -2]

print(second_dimmest(np.array([[1123, 1456, 1789, 1324, 1876],
[1567, 1987, 1678, 1405, 1589],
[1345, 1654, 1523, 1109, 1923],
[1298, 1890, 1367, 1784, 1432],
[1823, 1756, 1489, 1672, 1550]])))
