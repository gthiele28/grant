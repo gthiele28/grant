import numpy as np
import matplotlib.pyplot as plt

def make_sine_wave(x, A, w):
    return A * np.sin(w * x)

x = np.linspace(0, 2*np.pi, 1000)

amplitude = np.array([0.5, 1, 1.5, 2, 2.5])
frequency = np.array([1, 2, 3, 4, 5])

fig, axes = plt.subplots(1, 3, figsize=(25, 5))

ax = axes[0]
for A, ls in zip(amplitude, linestyles):
    y = make_sine_wave(x, A, w=1)
    ax.plot(x, y, linestyle=ls, label=f"A={A}, ω=1")
ax.legend(fontsize=12)
ax.grid(True)

ax = axes[1]
for w, ls in zip(frequency, linestyles):
    y = make_sine_wave(x, A=1, w=w)
    ax.plot(x, y, linestyle=ls, label=f"A=1, ω={w}")
ax.legend(fontsize=12)
ax.grid(True)

ax = axes[2]
for A, w, ls in zip(amplitude, frequency, linestyles):
    y = make_sine_wave(x, A=A, w=w)
    ax.plot(x, y, linestyle=ls, label=f"A={A}, ω={w}")
ax.legend(fontsize=12)
ax.grid(True)

plt.tight_layout()
plt.show()



