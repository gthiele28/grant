{
 "cells": [
  {
   "cell_type": "code",
   "execution_count": 2,
   "id": "6973c284-81fa-4b1f-81b6-5032ac527b30",
   "metadata": {},
   "outputs": [
    {
     "name": "stdout",
     "output_type": "stream",
     "text": [
      "[ 80 108  36  48 124  68  16 200 156 140]\n",
      "24.4\n",
      "23.5\n",
      "13.828955130450023\n",
      "6 7\n",
      "4 50\n",
      "4 50\n",
      "[27 31 50 39 35]\n"
     ]
    }
   ],
   "source": [
    "import numpy as np\n",
    "\n",
    "list = [20, 27, 9, 12, 31, 17, 4, 50, 39, 35]\n",
    "arr = np.array(list)\n",
    "\n",
    "print(arr * 4)\n",
    "\n",
    "print(arr.mean())\n",
    "\n",
    "print(np.median(arr))\n",
    "\n",
    "print(arr.std())\n",
    "\n",
    "imin = np.argmin(arr)\n",
    "imax = np.argmax(arr)\n",
    "print(imin, imax)\n",
    "\n",
    "print(arr[imin], arr[imax])\n",
    "\n",
    "print(np.min(arr), np.max(arr))\n",
    "\n",
    "print(arr[arr > 20])"
   ]
  },
  {
   "cell_type": "code",
   "execution_count": 10,
   "id": "fad5fe60-0ef3-4c76-bfef-b884adfc023b",
   "metadata": {},
   "outputs": [
    {
     "name": "stdout",
     "output_type": "stream",
     "text": [
      "(3, 4)\n",
      "[17 14 19]\n",
      "[ 8 21 14  3]\n",
      "[[10 24 34 18]\n",
      " [16 42 28  6]\n",
      " [12 26 38 22]]\n",
      "[ 6.33333333 15.33333333 16.66666667  7.66666667]\n",
      "11.5\n",
      "[17 21 19] [ 5 12 14  3]\n",
      "(12,)\n",
      "7 5\n",
      "[[ 5  9 12 17]\n",
      " [ 3  8 14 21]\n",
      " [ 6 11 13 19]]\n"
     ]
    }
   ],
   "source": [
    "import numpy as np\n",
    "\n",
    "matrix = [\n",
    "    [5, 12, 17, 9],\n",
    "    [8, 21, 14, 3],\n",
    "    [6, 13, 19, 11]\n",
    "]\n",
    "\n",
    "arr = np.array(matrix)\n",
    "\n",
    "\n",
    "shape = arr.shape\n",
    "print(shape)\n",
    "\n",
    "third_col = arr[:, 2]\n",
    "print(third_col)\n",
    "\n",
    "second_row = arr[1, :]\n",
    "print(second_row)\n",
    "\n",
    "times2 = arr * 2\n",
    "print(times2)\n",
    "\n",
    "col_means = arr.mean(axis=0)\n",
    "print(col_means)\n",
    "\n",
    "overall_mean = arr.mean()\n",
    "print(overall_mean)\n",
    "\n",
    "row_max = arr.max(axis=1)\n",
    "col_min = arr.min(axis=0)\n",
    "print(row_max, col_min)\n",
    "\n",
    "flat = arr.flatten()\n",
    "flat_shape = flat.shape\n",
    "print(flat_shape)\n",
    "\n",
    "imin = np.argmin(arr)\n",
    "imax = np.argmax(arr)\n",
    "print(imin, imax)\n",
    "\n",
    "imin_rc = np.unravel_index(imin, arr.shape)\n",
    "imax_rc = np.unravel_index(imax, arr.shape)\n",
    "\n",
    "gt15 = arr[arr > 15]\n",
    "\n",
    "sorted_rows = np.sort(arr, axis=1)\n",
    "print(sorted_rows)"
   ]
  },
  {
   "cell_type": "code",
   "execution_count": 43,
   "id": "222a0f65-9c48-4d09-8d53-2d0dc9e14a23",
   "metadata": {},
   "outputs": [
    {
     "name": "stdout",
     "output_type": "stream",
     "text": [
      "[ 2.  3.  5. 11. 13. 17.  7. 10. 13.]\n"
     ]
    }
   ],
   "source": [
    "arr = np.array([\n",
    "[2, 3, 5],\n",
    "[14, 6, 8],\n",
    "[11, 13, 17],\n",
    "[7, 10, 13]\n",
    "])\n",
    "\n",
    "def is_prime(x):\n",
    "    if x <= 1:\n",
    "        return False\n",
    "    \n",
    "    if x == 2:\n",
    "        return True\n",
    "    \n",
    "    for i in range(2, int(np.sqrt(x)) + 1):\n",
    "        if x % i == 0:\n",
    "            return False\n",
    "    return True\n",
    "\n",
    "def prime_array(nums):\n",
    "    ret = np.array([])\n",
    "    \n",
    "    for i in nums:\n",
    "        for j in i:\n",
    "            if is_prime(j):\n",
    "                ret = np.append(ret, [i])\n",
    "                break\n",
    "\n",
    "    return ret\n",
    "\n",
    "print(prime_array(arr))"
   ]
  },
  {
   "cell_type": "code",
   "execution_count": 47,
   "id": "65b4dd9d-9bda-4570-ba83-333dc02758d5",
   "metadata": {
    "scrolled": true
   },
   "outputs": [
    {
     "name": "stdout",
     "output_type": "stream",
     "text": [
      "[[1 0 1 0 1 0 1 0]\n",
      " [0 1 0 1 0 1 0 1]\n",
      " [1 0 1 0 1 0 1 0]\n",
      " [0 1 0 1 0 1 0 1]\n",
      " [1 0 1 0 1 0 1 0]\n",
      " [0 1 0 1 0 1 0 1]\n",
      " [1 0 1 0 1 0 1 0]\n",
      " [0 1 0 1 0 1 0 1]]\n",
      "[[0 1 0 1 0 1 0 1]\n",
      " [1 0 1 0 1 0 1 0]\n",
      " [0 1 0 1 0 1 0 1]\n",
      " [1 0 1 0 1 0 1 0]\n",
      " [0 1 0 1 0 1 0 1]\n",
      " [1 0 1 0 1 0 1 0]\n",
      " [0 1 0 1 0 1 0 1]\n",
      " [1 0 1 0 1 0 1 0]]\n"
     ]
    }
   ],
   "source": [
    "def zero_board():\n",
    "    return np.zeros((8,8), dtype=int)\n",
    "\n",
    "def checkerboard():\n",
    "    i,j = np.indices((8,8))\n",
    "    return ((i + j) % 2 == 0).astype(int)\n",
    "\n",
    "def reverse_checkerboard():\n",
    "    i, j = np.indices((8, 8))\n",
    "    return ((i + j) % 2).astype(int)\n",
    "\n",
    "print(checkerboard())\n",
    "print(reverse_checkerboard())"
   ]
  },
  {
   "cell_type": "code",
   "execution_count": 48,
   "id": "d9cece32-18f5-4bb5-a819-42280d3512d1",
   "metadata": {},
   "outputs": [
    {
     "name": "stdout",
     "output_type": "stream",
     "text": [
      "[1789 1678 1654 1784 1756]\n"
     ]
    }
   ],
   "source": [
    "def second_dimmest(stars):\n",
    "    return np.partition(stars, -2, axis=1)[:, -2]\n",
    "\n",
    "print(second_dimmest(np.array([[1123, 1456, 1789, 1324, 1876],\n",
    "[1567, 1987, 1678, 1405, 1589],\n",
    "[1345, 1654, 1523, 1109, 1923],\n",
    "[1298, 1890, 1367, 1784, 1432],\n",
    "[1823, 1756, 1489, 1672, 1550]])))"
   ]
  }
 ],
 "metadata": {
  "kernelspec": {
   "display_name": "Python [conda env:base] *",
   "language": "python",
   "name": "conda-base-py"
  },
  "language_info": {
   "codemirror_mode": {
    "name": "ipython",
    "version": 3
   },
   "file_extension": ".py",
   "mimetype": "text/x-python",
   "name": "python",
   "nbconvert_exporter": "python",
   "pygments_lexer": "ipython3",
   "version": "3.13.5"
  }
 },
 "nbformat": 4,
 "nbformat_minor": 5
}
